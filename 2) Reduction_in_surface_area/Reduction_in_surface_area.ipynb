{
 "cells": [
  {
   "cell_type": "markdown",
   "metadata": {},
   "source": [
    "## Developed by: Saad Aldin Mohamed\n",
    "## email: sa3danny@yahoo.com"
   ]
  },
  {
   "cell_type": "code",
   "execution_count": 1,
   "metadata": {},
   "outputs": [],
   "source": [
    "# Common imports\n",
    "import pandas as pd\n",
    "import numpy as np\n",
    "import matplotlib.pyplot as plt\n",
    "plt.rcParams['figure.figsize'] = (6, 4)\n",
    "\n",
    "# Ignore useless warnings\n",
    "import warnings\n",
    "warnings.simplefilter(\"ignore\", UserWarning)"
   ]
  },
  {
   "cell_type": "markdown",
   "metadata": {},
   "source": [
    "# ------------------------------------- Data preparation -------------------------------------------"
   ]
  },
  {
   "cell_type": "code",
   "execution_count": 2,
   "metadata": {},
   "outputs": [
    {
     "data": {
      "text/html": [
       "<div>\n",
       "<style scoped>\n",
       "    .dataframe tbody tr th:only-of-type {\n",
       "        vertical-align: middle;\n",
       "    }\n",
       "\n",
       "    .dataframe tbody tr th {\n",
       "        vertical-align: top;\n",
       "    }\n",
       "\n",
       "    .dataframe thead th {\n",
       "        text-align: right;\n",
       "    }\n",
       "</style>\n",
       "<table border=\"1\" class=\"dataframe\">\n",
       "  <thead>\n",
       "    <tr style=\"text-align: right;\">\n",
       "      <th></th>\n",
       "      <th>name</th>\n",
       "      <th>activated</th>\n",
       "      <th>N2_BET</th>\n",
       "      <th>N2_Langmiur</th>\n",
       "      <th>last solvent</th>\n",
       "      <th>method</th>\n",
       "    </tr>\n",
       "  </thead>\n",
       "  <tbody>\n",
       "    <tr>\n",
       "      <th>0</th>\n",
       "      <td>ACAJIZ_clean</td>\n",
       "      <td>yes</td>\n",
       "      <td>0.0</td>\n",
       "      <td>0.0</td>\n",
       "      <td>chloroform</td>\n",
       "      <td>exchange</td>\n",
       "    </tr>\n",
       "    <tr>\n",
       "      <th>1</th>\n",
       "      <td>ACAJOF_clean</td>\n",
       "      <td>yes</td>\n",
       "      <td>0.0</td>\n",
       "      <td>0.0</td>\n",
       "      <td>chloroform</td>\n",
       "      <td>exchange</td>\n",
       "    </tr>\n",
       "    <tr>\n",
       "      <th>2</th>\n",
       "      <td>ACUFEK_clean</td>\n",
       "      <td>yes</td>\n",
       "      <td>NaN</td>\n",
       "      <td>3800.0</td>\n",
       "      <td>dichloromethane</td>\n",
       "      <td>exchange</td>\n",
       "    </tr>\n",
       "  </tbody>\n",
       "</table>\n",
       "</div>"
      ],
      "text/plain": [
       "           name activated  N2_BET  N2_Langmiur     last solvent    method\n",
       "0  ACAJIZ_clean       yes     0.0          0.0       chloroform  exchange\n",
       "1  ACAJOF_clean       yes     0.0          0.0       chloroform  exchange\n",
       "2  ACUFEK_clean       yes     NaN       3800.0  dichloromethane  exchange"
      ]
     },
     "execution_count": 2,
     "metadata": {},
     "output_type": "execute_result"
    }
   ],
   "source": [
    "activation_data = pd.read_excel('Activation_status_data.xlsx')\n",
    "activation_data.head(3)"
   ]
  },
  {
   "cell_type": "code",
   "execution_count": 3,
   "metadata": {},
   "outputs": [
    {
     "data": {
      "text/plain": [
       "array(['yes', nan, 'no', 'dup-remove', 'hypo-remove'], dtype=object)"
      ]
     },
     "execution_count": 3,
     "metadata": {},
     "output_type": "execute_result"
    }
   ],
   "source": [
    "activation_data['activated'].unique()"
   ]
  },
  {
   "cell_type": "code",
   "execution_count": 4,
   "metadata": {},
   "outputs": [
    {
     "name": "stdout",
     "output_type": "stream",
     "text": [
      "Removed duplicate enteries =  49\n",
      "Removed hypothetical enteries =  6\n",
      "size of the remaining data =  280\n"
     ]
    }
   ],
   "source": [
    "## Remove duplicate and hypothetical enteries\n",
    "dup_remove = activation_data[activation_data['activated']=='dup-remove'].index\n",
    "hypo_remove = activation_data[activation_data['activated']=='hypo-remove'].index\n",
    "activation_data = activation_data.drop(dup_remove)\n",
    "activation_data = activation_data.drop(hypo_remove)\n",
    "\n",
    "print ('Removed duplicate enteries = ', len(dup_remove))\n",
    "print ('Removed hypothetical enteries = ', len(hypo_remove))\n",
    "print ('size of the remaining data = ', len(activation_data))"
   ]
  },
  {
   "cell_type": "markdown",
   "metadata": {},
   "source": [
    "# -------------------------- Reduction in surface area ------------------------------------"
   ]
  },
  {
   "cell_type": "code",
   "execution_count": 5,
   "metadata": {},
   "outputs": [],
   "source": [
    "#Import theoretical surface area for all the CORE database\n",
    "geom_data = pd.read_csv(\"2019-11-01-ASR-public_12020.csv\")\n",
    "theoretical_ASA = geom_data[['filename', 'ASA_m2_g']]\n",
    "theoretical_ASA = pd.DataFrame(theoretical_ASA)\n",
    "theoretical_ASA.rename(columns = {'filename':'name'}, inplace=True)"
   ]
  },
  {
   "cell_type": "code",
   "execution_count": 6,
   "metadata": {},
   "outputs": [
    {
     "data": {
      "text/html": [
       "<div>\n",
       "<style scoped>\n",
       "    .dataframe tbody tr th:only-of-type {\n",
       "        vertical-align: middle;\n",
       "    }\n",
       "\n",
       "    .dataframe tbody tr th {\n",
       "        vertical-align: top;\n",
       "    }\n",
       "\n",
       "    .dataframe thead th {\n",
       "        text-align: right;\n",
       "    }\n",
       "</style>\n",
       "<table border=\"1\" class=\"dataframe\">\n",
       "  <thead>\n",
       "    <tr style=\"text-align: right;\">\n",
       "      <th></th>\n",
       "      <th>name</th>\n",
       "      <th>ASA_m2_g</th>\n",
       "      <th>N2_BET</th>\n",
       "      <th>N2_Langmiur</th>\n",
       "    </tr>\n",
       "  </thead>\n",
       "  <tbody>\n",
       "    <tr>\n",
       "      <th>0</th>\n",
       "      <td>ACAJIZ_clean</td>\n",
       "      <td>753.879</td>\n",
       "      <td>0.0</td>\n",
       "      <td>0.0</td>\n",
       "    </tr>\n",
       "    <tr>\n",
       "      <th>1</th>\n",
       "      <td>ACAJOF_clean</td>\n",
       "      <td>920.046</td>\n",
       "      <td>0.0</td>\n",
       "      <td>0.0</td>\n",
       "    </tr>\n",
       "    <tr>\n",
       "      <th>2</th>\n",
       "      <td>ACUFEK_clean</td>\n",
       "      <td>3941.720</td>\n",
       "      <td>NaN</td>\n",
       "      <td>3800.0</td>\n",
       "    </tr>\n",
       "  </tbody>\n",
       "</table>\n",
       "</div>"
      ],
      "text/plain": [
       "           name  ASA_m2_g  N2_BET  N2_Langmiur\n",
       "0  ACAJIZ_clean   753.879     0.0          0.0\n",
       "1  ACAJOF_clean   920.046     0.0          0.0\n",
       "2  ACUFEK_clean  3941.720     NaN       3800.0"
      ]
     },
     "execution_count": 6,
     "metadata": {},
     "output_type": "execute_result"
    }
   ],
   "source": [
    "#Merge the experimental surface area with the theoretical surface area\n",
    "surface_data  = pd.merge(theoretical_ASA, activation_data[['name','N2_BET','N2_Langmiur']], on = 'name', how = 'inner')\n",
    "\n",
    "surface_data.head(3)"
   ]
  },
  {
   "cell_type": "code",
   "execution_count": 7,
   "metadata": {},
   "outputs": [
    {
     "data": {
      "image/png": "[encoded data removed]",
      "text/plain": [
       "<Figure size 360x288 with 1 Axes>"
      ]
     },
     "metadata": {
      "needs_background": "light"
     },
     "output_type": "display_data"
    }
   ],
   "source": [
    "## plot the experimental BET vs Langmiur\n",
    "\n",
    "BET_vs_Langmiur = surface_data.copy()\n",
    "BET_vs_Langmiur = BET_vs_Langmiur.dropna(subset = ['N2_BET']) # drop the rows with nan \n",
    "BET_vs_Langmiur = BET_vs_Langmiur.dropna(subset = ['N2_Langmiur']) # drop the rows with nan\n",
    "\n",
    "#----------------------- liner fitting (with zero intercept) -------------------------------#\n",
    "\n",
    "from sklearn.linear_model import LinearRegression\n",
    "X = BET_vs_Langmiur ['N2_Langmiur']\n",
    "X = np.array(X).reshape(-1, 1)\n",
    "y = BET_vs_Langmiur ['N2_BET']\n",
    "y = np.array(y)\n",
    "reg = LinearRegression(fit_intercept=False).fit(X, y)\n",
    "score = reg.score(X,y)\n",
    "slope = reg.coef_\n",
    "intercept = reg.intercept_\n",
    "\n",
    "\n",
    "#---------------------- scatter plot ---------------------------------#\n",
    "\n",
    "Langmiur = BET_vs_Langmiur ['N2_Langmiur']\n",
    "BET = BET_vs_Langmiur ['N2_BET']\n",
    "\n",
    "xs = np.arange(0,8000,100)\n",
    "line_y = xs\n",
    "y_model = slope*(xs) # the intercept was set to zero\n",
    "\n",
    "plt.figure(figsize=(5,4))\n",
    "plt.scatter(x = Langmiur, y = BET, s =50, c = 'royalblue', edgecolor ='blue', alpha = 0.8)\n",
    "\n",
    "line, = plt.plot(xs, line_y, \"k--\", linewidth=1)  # diagonal line\n",
    "model, = plt.plot(xs, y_model, \"r-\", linewidth=1)  # fitted\n",
    "\n",
    "plt.title (\"Calibration of the Experimental Surface Area\", fontsize = 12, pad=15)\n",
    "plt.xlabel(\"Langmiur (m${^2}$/g)\", fontsize = 16)\n",
    "plt.ylabel(\"BET (m${^2}$/g)\", fontsize = 16)\n",
    "plt.axis([0, 6400, 0, 6400])\n",
    "\n",
    "#-------------------------- print text --------------------------------#\n",
    "\n",
    "txt_1 = 'y = ' + str(\"%0.3f \" % slope[0]) + 'x ' \n",
    "txt_2 = \"R$^{2}$ = \" + str(\"%0.2f \" % score)\n",
    "plt.legend(['_nolegend_', txt_1 ,'_nolegend_'], loc='upper left', fontsize=14)\n",
    "#plt.text(800, 5700, txt_1, fontsize=14)\n",
    "plt.text(1100, 4600, txt_2, fontsize=14)\n",
    "plt.tight_layout()\n",
    "\n",
    "plt.savefig(\"Calibrating Experimental Surface Area.png\", dpi=200)"
   ]
  },
  {
   "cell_type": "code",
   "execution_count": 8,
   "metadata": {},
   "outputs": [
    {
     "data": {
      "text/html": [
       "<div>\n",
       "<style scoped>\n",
       "    .dataframe tbody tr th:only-of-type {\n",
       "        vertical-align: middle;\n",
       "    }\n",
       "\n",
       "    .dataframe tbody tr th {\n",
       "        vertical-align: top;\n",
       "    }\n",
       "\n",
       "    .dataframe thead th {\n",
       "        text-align: right;\n",
       "    }\n",
       "</style>\n",
       "<table border=\"1\" class=\"dataframe\">\n",
       "  <thead>\n",
       "    <tr style=\"text-align: right;\">\n",
       "      <th></th>\n",
       "      <th>name</th>\n",
       "      <th>ASA_m2_g</th>\n",
       "      <th>N2_BET</th>\n",
       "      <th>N2_Langmiur</th>\n",
       "    </tr>\n",
       "  </thead>\n",
       "  <tbody>\n",
       "    <tr>\n",
       "      <th>0</th>\n",
       "      <td>ACAJIZ_clean</td>\n",
       "      <td>753.879</td>\n",
       "      <td>0.000000</td>\n",
       "      <td>0.0</td>\n",
       "    </tr>\n",
       "    <tr>\n",
       "      <th>1</th>\n",
       "      <td>ACAJOF_clean</td>\n",
       "      <td>920.046</td>\n",
       "      <td>0.000000</td>\n",
       "      <td>0.0</td>\n",
       "    </tr>\n",
       "    <tr>\n",
       "      <th>2</th>\n",
       "      <td>ACUFEK_clean</td>\n",
       "      <td>3941.720</td>\n",
       "      <td>3119.939044</td>\n",
       "      <td>3800.0</td>\n",
       "    </tr>\n",
       "    <tr>\n",
       "      <th>3</th>\n",
       "      <td>ADASAB_charged</td>\n",
       "      <td>4829.510</td>\n",
       "      <td>880.000000</td>\n",
       "      <td>1030.0</td>\n",
       "    </tr>\n",
       "    <tr>\n",
       "      <th>4</th>\n",
       "      <td>ADASEF_clean</td>\n",
       "      <td>4179.020</td>\n",
       "      <td>1740.000000</td>\n",
       "      <td>3180.0</td>\n",
       "    </tr>\n",
       "    <tr>\n",
       "      <th>5</th>\n",
       "      <td>ADASIJ_clean</td>\n",
       "      <td>3491.360</td>\n",
       "      <td>1070.000000</td>\n",
       "      <td>1590.0</td>\n",
       "    </tr>\n",
       "    <tr>\n",
       "      <th>7</th>\n",
       "      <td>ADOGEH_clean</td>\n",
       "      <td>1958.140</td>\n",
       "      <td>1834.000000</td>\n",
       "      <td>NaN</td>\n",
       "    </tr>\n",
       "    <tr>\n",
       "      <th>8</th>\n",
       "      <td>AGOFEJ_clean</td>\n",
       "      <td>3357.770</td>\n",
       "      <td>0.000000</td>\n",
       "      <td>0.0</td>\n",
       "    </tr>\n",
       "    <tr>\n",
       "      <th>9</th>\n",
       "      <td>ALAMUW_clean</td>\n",
       "      <td>3766.220</td>\n",
       "      <td>2011.539647</td>\n",
       "      <td>2450.0</td>\n",
       "    </tr>\n",
       "    <tr>\n",
       "      <th>12</th>\n",
       "      <td>ANUGEW_clean</td>\n",
       "      <td>4708.570</td>\n",
       "      <td>0.000000</td>\n",
       "      <td>0.0</td>\n",
       "    </tr>\n",
       "  </tbody>\n",
       "</table>\n",
       "</div>"
      ],
      "text/plain": [
       "              name  ASA_m2_g       N2_BET  N2_Langmiur\n",
       "0     ACAJIZ_clean   753.879     0.000000          0.0\n",
       "1     ACAJOF_clean   920.046     0.000000          0.0\n",
       "2     ACUFEK_clean  3941.720  3119.939044       3800.0\n",
       "3   ADASAB_charged  4829.510   880.000000       1030.0\n",
       "4     ADASEF_clean  4179.020  1740.000000       3180.0\n",
       "5     ADASIJ_clean  3491.360  1070.000000       1590.0\n",
       "7     ADOGEH_clean  1958.140  1834.000000          NaN\n",
       "8     AGOFEJ_clean  3357.770     0.000000          0.0\n",
       "9     ALAMUW_clean  3766.220  2011.539647       2450.0\n",
       "12    ANUGEW_clean  4708.570     0.000000          0.0"
      ]
     },
     "execution_count": 8,
     "metadata": {},
     "output_type": "execute_result"
    }
   ],
   "source": [
    "#fill the nan in BET enteries with fitted model, if exist a langmiur value\n",
    "fill_BET = surface_data.copy()\n",
    "fill_BET = fill_BET.dropna(subset = ['N2_BET', 'N2_Langmiur'],\n",
    "                         how= 'all') # drop columns where both BET and Langmiur are 'nan'\n",
    "\n",
    "fitted = slope*fill_BET['N2_Langmiur']\n",
    "fill_BET['N2_BET'] = fill_BET['N2_BET'].fillna(fitted)\n",
    "\n",
    "fill_BET.head(10)"
   ]
  },
  {
   "cell_type": "code",
   "execution_count": 9,
   "metadata": {},
   "outputs": [
    {
     "data": {
      "text/plain": [
       "<AxesSubplot:>"
      ]
     },
     "execution_count": 9,
     "metadata": {},
     "output_type": "execute_result"
    },
    {
     "data": {
      "image/png": "[encoded data removed]",
      "text/plain": [
       "<Figure size 432x288 with 1 Axes>"
      ]
     },
     "metadata": {
      "needs_background": "light"
     },
     "output_type": "display_data"
    }
   ],
   "source": [
    "#plot histogram of the surface area reduction\n",
    "reduction_data = fill_BET.copy()\n",
    "\n",
    "#remove data with zero theoretical values, to avoid infinity in the estimated reduction value\n",
    "ind = reduction_data[reduction_data['ASA_m2_g'] == 0].index \n",
    "reduction_data = reduction_data.drop(ind)\n",
    "reduction_data['reduction'] = 100*(reduction_data['ASA_m2_g'] - reduction_data['N2_BET'])/reduction_data['ASA_m2_g']\n",
    "reduction_data['reduction'].hist(bins= 20)"
   ]
  },
  {
   "cell_type": "code",
   "execution_count": 10,
   "metadata": {},
   "outputs": [
    {
     "data": {
      "text/plain": [
       "<AxesSubplot:>"
      ]
     },
     "execution_count": 10,
     "metadata": {},
     "output_type": "execute_result"
    },
    {
     "data": {
      "image/png": "[encoded data removed]",
      "text/plain": [
       "<Figure size 432x288 with 1 Axes>"
      ]
     },
     "metadata": {
      "needs_background": "light"
     },
     "output_type": "display_data"
    }
   ],
   "source": [
    "#if the reduction is less than zero, then round it to zero\n",
    "#in other words, if the experimental BET is bigger than theortical value, then the reduction can be taken as zero\n",
    "reduction_data.loc[(reduction_data.reduction < 0),'reduction']=0\n",
    "reduction_data['reduction'].hist(bins= 20)"
   ]
  },
  {
   "cell_type": "code",
   "execution_count": 11,
   "metadata": {},
   "outputs": [
    {
     "data": {
      "image/png": "[encoded data removed]",
      "text/plain": [
       "<Figure size 432x288 with 1 Axes>"
      ]
     },
     "metadata": {
      "needs_background": "light"
     },
     "output_type": "display_data"
    }
   ],
   "source": [
    "# Plot a nice histogram\n",
    "\n",
    "#----------------------- Plot histogram--------------------------------#\n",
    "n_bins = 20\n",
    "n, bins, patches = plt.hist(reduction_data['reduction'], bins = n_bins, color='r', edgecolor = 'k')\n",
    "\n",
    "#--------------------- generate a color gradient-------------------------#\n",
    "from colour import Color\n",
    "main_color = Color(\"dodgerblue\")\n",
    "colors = list(main_color.range_to(Color(\"orangered\"),n_bins))\n",
    "colors = [color.rgb for color in colors]\n",
    "cm = plt.cm.get_cmap('bwr')\n",
    "\n",
    "bin_centers = 0.5 * (bins[:-1] + bins[1:])\n",
    "columns = bin_centers - min(bin_centers)\n",
    "columns /= max(columns)\n",
    "for c, p in zip(columns, patches):\n",
    "    plt.setp(p, 'facecolor', cm(c))\n",
    "      \n",
    "#---------------------------- other settings ---------------------------#\n",
    "plt.xlabel(\"Reduction in surface area (%)\", fontsize=18, labelpad=10)\n",
    "plt.ylabel(\"Number of MOFs\", fontsize=18, labelpad=10)\n",
    "plt.xlim([0, 100])\n",
    "plt.rc('font', size=14)\n",
    "plt.rc('axes', titlesize=14)\n",
    "plt.tight_layout()\n",
    "plt.savefig(\"Surface area reduction histogram.png\", dpi=200)"
   ]
  },
  {
   "cell_type": "code",
   "execution_count": null,
   "metadata": {},
   "outputs": [],
   "source": []
  }
 ],
 "metadata": {
  "kernelspec": {
   "display_name": "Python 3",
   "language": "python",
   "name": "python3"
  },
  "language_info": {
   "codemirror_mode": {
    "name": "ipython",
    "version": 3
   },
   "file_extension": ".py",
   "mimetype": "text/x-python",
   "name": "python",
   "nbconvert_exporter": "python",
   "pygments_lexer": "ipython3",
   "version": "3.8.5"
  }
 },
 "nbformat": 4,
 "nbformat_minor": 4
}
